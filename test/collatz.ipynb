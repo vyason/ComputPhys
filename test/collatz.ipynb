{
 "cells": [
  {
   "cell_type": "code",
   "execution_count": 2,
   "metadata": {},
   "outputs": [],
   "source": [
    "import numpy as np\n",
    "from math import pi"
   ]
  },
  {
   "cell_type": "code",
   "execution_count": null,
   "metadata": {},
   "outputs": [],
   "source": [
    "a = (\"John\", \"Charles\", \"Mike\")\n",
    "b = (\"Jenny\", \"Christy\", \"Monica\", \"Vicky\")\n",
    "\n",
    "x = zip(a, b)"
   ]
  },
  {
   "cell_type": "code",
   "execution_count": 4,
   "metadata": {},
   "outputs": [
    {
     "data": {
      "text/plain": [
       "8"
      ]
     },
     "execution_count": 4,
     "metadata": {},
     "output_type": "execute_result"
    }
   ],
   "source": []
  },
  {
   "cell_type": "code",
   "execution_count": null,
   "metadata": {},
   "outputs": [
    {
     "data": {
      "text/plain": [
       "(array([7.0000e+00, 2.2000e+01, 7.4000e+01, 2.3800e+02, 9.5500e+02,\n",
       "        2.0950e+03, 4.1620e+03, 7.6400e+03, 1.4244e+04, 1.7863e+04,\n",
       "        2.2124e+04, 2.4434e+04, 3.6290e+04, 3.1744e+04, 3.6354e+04,\n",
       "        3.6541e+04, 4.2259e+04, 3.2463e+04, 3.4521e+04, 3.0791e+04,\n",
       "        4.2062e+04, 3.0199e+04, 2.5956e+04, 2.7605e+04, 2.7952e+04,\n",
       "        3.3833e+04, 2.9553e+04, 2.8159e+04, 2.5376e+04, 3.7914e+04,\n",
       "        2.7354e+04, 2.3981e+04, 2.8920e+04, 2.6022e+04, 2.5697e+04,\n",
       "        2.3239e+04, 1.8743e+04, 1.7009e+04, 1.7867e+04, 1.3849e+04,\n",
       "        1.5246e+04, 1.2744e+04, 8.3860e+03, 6.6330e+03, 7.4440e+03,\n",
       "        6.1270e+03, 5.9790e+03, 4.5880e+03, 3.3540e+03, 3.0440e+03,\n",
       "        3.5260e+03, 2.2350e+03, 2.6330e+03, 1.9300e+03, 1.6300e+03,\n",
       "        1.2550e+03, 1.0610e+03, 8.0000e+02, 1.2370e+03, 7.0900e+02,\n",
       "        4.7700e+02, 5.0500e+02, 5.6700e+02, 2.6300e+02, 2.9500e+02,\n",
       "        2.1700e+02, 2.3800e+02, 1.6400e+02, 1.1200e+02, 5.9000e+01,\n",
       "        1.0000e+02, 5.5000e+01, 7.8000e+01, 5.1000e+01, 2.3000e+01,\n",
       "        1.2000e+01, 1.3000e+01, 1.7000e+01, 1.8000e+01, 9.0000e+00,\n",
       "        8.0000e+00, 6.0000e+00, 4.0000e+00, 8.0000e+00, 1.2000e+01,\n",
       "        5.0000e+00, 1.0000e+00, 1.0000e+00, 0.0000e+00, 3.0000e+00,\n",
       "        2.0000e+00, 0.0000e+00, 0.0000e+00, 0.0000e+00, 0.0000e+00,\n",
       "        1.0000e+00, 2.0000e+00, 0.0000e+00, 0.0000e+00, 1.0000e+00]),\n",
       " array([  0.  ,   5.24,  10.48,  15.72,  20.96,  26.2 ,  31.44,  36.68,\n",
       "         41.92,  47.16,  52.4 ,  57.64,  62.88,  68.12,  73.36,  78.6 ,\n",
       "         83.84,  89.08,  94.32,  99.56, 104.8 , 110.04, 115.28, 120.52,\n",
       "        125.76, 131.  , 136.24, 141.48, 146.72, 151.96, 157.2 , 162.44,\n",
       "        167.68, 172.92, 178.16, 183.4 , 188.64, 193.88, 199.12, 204.36,\n",
       "        209.6 , 214.84, 220.08, 225.32, 230.56, 235.8 , 241.04, 246.28,\n",
       "        251.52, 256.76, 262.  , 267.24, 272.48, 277.72, 282.96, 288.2 ,\n",
       "        293.44, 298.68, 303.92, 309.16, 314.4 , 319.64, 324.88, 330.12,\n",
       "        335.36, 340.6 , 345.84, 351.08, 356.32, 361.56, 366.8 , 372.04,\n",
       "        377.28, 382.52, 387.76, 393.  , 398.24, 403.48, 408.72, 413.96,\n",
       "        419.2 , 424.44, 429.68, 434.92, 440.16, 445.4 , 450.64, 455.88,\n",
       "        461.12, 466.36, 471.6 , 476.84, 482.08, 487.32, 492.56, 497.8 ,\n",
       "        503.04, 508.28, 513.52, 518.76, 524.  ]),\n",
       " <BarContainer object of 100 artists>)"
      ]
     },
     "execution_count": 48,
     "metadata": {},
     "output_type": "execute_result"
    },
    {
     "data": {
      "image/png": "[encoded data removed]",
      "text/plain": [
       "<Figure size 432x288 with 1 Axes>"
      ]
     },
     "metadata": {
      "needs_background": "light"
     },
     "output_type": "display_data"
    }
   ],
   "source": [
    "plt.hist(steps_vals,bins=100)"
   ]
  }
 ],
 "metadata": {
  "interpreter": {
   "hash": "d4d1e4263499bec80672ea0156c357c1ee493ec2b1c70f0acce89fc37c4a6abe"
  },
  "kernelspec": {
   "display_name": "Python 3.9.12 ('base')",
   "language": "python",
   "name": "python3"
  },
  "language_info": {
   "codemirror_mode": {
    "name": "ipython",
    "version": 3
   },
   "file_extension": ".py",
   "mimetype": "text/x-python",
   "name": "python",
   "nbconvert_exporter": "python",
   "pygments_lexer": "ipython3",
   "version": "3.9.12"
  },
  "orig_nbformat": 4
 },
 "nbformat": 4,
 "nbformat_minor": 2
}
